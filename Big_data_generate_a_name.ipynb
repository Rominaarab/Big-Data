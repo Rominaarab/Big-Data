{
  "nbformat": 4,
  "nbformat_minor": 0,
  "metadata": {
    "colab": {
      "provenance": [],
      "authorship_tag": "ABX9TyMp3PIIC3vA66N9TDyeC/3g",
      "include_colab_link": true
    },
    "kernelspec": {
      "name": "python3",
      "display_name": "Python 3"
    },
    "language_info": {
      "name": "python"
    }
  },
  "cells": [
    {
      "cell_type": "markdown",
      "metadata": {
        "id": "view-in-github",
        "colab_type": "text"
      },
      "source": [
        "<a href=\"https://colab.research.google.com/github/Rominaarab/Big-Data/blob/main/Big_data_generate_a_name.ipynb\" target=\"_parent\"><img src=\"https://colab.research.google.com/assets/colab-badge.svg\" alt=\"Open In Colab\"/></a>"
      ]
    },
    {
      "cell_type": "code",
      "source": [
        "import numpy as np\n",
        "import pandas as pd\n",
        "import torch\n",
        "import torch.nn as nn\n",
        "import random"
      ],
      "metadata": {
        "id": "GQRobrTjCVpR"
      },
      "execution_count": 2,
      "outputs": []
    },
    {
      "cell_type": "code",
      "source": [
        "names = [\"Ali\", \"Sara\", \"Maryam\", \"Alice\", \"Charlie\", \"Bob\", \"David\"]"
      ],
      "metadata": {
        "id": "i9PK3Pe2DT0O"
      },
      "execution_count": 3,
      "outputs": []
    },
    {
      "cell_type": "code",
      "source": [
        "all_char = set(''.join([name.lower() for name in names]))\n",
        "chars = sorted(list(all_char))\n",
        "char_to_idx = {ch: i for i, ch in enumerate(chars)}\n",
        "idx_to_char = {i: ch for i, ch in enumerate(chars)}"
      ],
      "metadata": {
        "id": "HkO1EdK2DoS_"
      },
      "execution_count": 17,
      "outputs": []
    },
    {
      "cell_type": "code",
      "source": [
        "vocab_size = len(chars)\n",
        "embedding_dim = 10\n",
        "hidden_dim = 128\n",
        "learning_rate = 0.005"
      ],
      "metadata": {
        "id": "r6NI3VM_EalE"
      },
      "execution_count": 18,
      "outputs": []
    },
    {
      "cell_type": "code",
      "source": [
        "class NameGeneratorRNN(nn.Module):\n",
        "    def __init__(self, vocab_size, embedding_dim, hidden_dim):\n",
        "        super(NameGeneratorRNN, self).__init__()\n",
        "        self.embedding = nn.Embedding(vocab_size, embedding_dim)\n",
        "        self.rnn = nn.GRU(embedding_dim, hidden_dim, batch_first=True)\n",
        "        self.fc = nn.Linear(hidden_dim, vocab_size)\n",
        "\n",
        "    def forward(self, x, hidden=None):\n",
        "        embed = self.embedding(x)\n",
        "        out, hidden = self.rnn(embed, hidden)\n",
        "        out = self.fc(out)\n",
        "        return out, hidden"
      ],
      "metadata": {
        "id": "soEdJGtLEso5"
      },
      "execution_count": 19,
      "outputs": []
    },
    {
      "cell_type": "code",
      "source": [
        "model = NameGeneratorRNN(vocab_size, embedding_dim, hidden_dim)\n",
        "optimizer = torch.optim.Adam(model.parameters(), lr=learning_rate)\n",
        "criterion = nn.CrossEntropyLoss()"
      ],
      "metadata": {
        "id": "B1oesgzIE7me"
      },
      "execution_count": 20,
      "outputs": []
    },
    {
      "cell_type": "code",
      "source": [
        "for epoch in range(1000):\n",
        "    name = random.choice(names)\n",
        "    name = name.lower()\n",
        "    input_seq = [char_to_idx[ch] for ch in name[:-1]]\n",
        "    target_seq = [char_to_idx[ch] for ch in name[1:]]\n",
        "    input_tensor = torch.tensor([input_seq], dtype=torch.long)\n",
        "    target_tensor = torch.tensor([target_seq], dtype=torch.long)\n",
        "\n",
        "    optimizer.zero_grad()\n",
        "    output, _ = model(input_tensor)\n",
        "    loss = criterion(output.squeeze(0), target_tensor.squeeze(0))\n",
        "    loss.backward()\n",
        "    optimizer.step()\n",
        "\n",
        "    if epoch % 100 == 0:\n",
        "        print(f\"Epoch {epoch}, Loss: {loss.item()}\")"
      ],
      "metadata": {
        "colab": {
          "base_uri": "https://localhost:8080/"
        },
        "id": "4ey-EsaYFASL",
        "outputId": "3f80aa72-eabc-47e3-e09c-c207383083d5"
      },
      "execution_count": 22,
      "outputs": [
        {
          "output_type": "stream",
          "name": "stdout",
          "text": [
            "Epoch 0, Loss: 2.7362160682678223\n",
            "Epoch 100, Loss: 0.043751683086156845\n",
            "Epoch 200, Loss: 0.0033779109362512827\n",
            "Epoch 300, Loss: 0.005941391456872225\n",
            "Epoch 400, Loss: 0.0016645787982270122\n",
            "Epoch 500, Loss: 0.0009521010797470808\n",
            "Epoch 600, Loss: 0.0008307262905873358\n",
            "Epoch 700, Loss: 0.0006189793348312378\n",
            "Epoch 800, Loss: 0.0003831733774859458\n",
            "Epoch 900, Loss: 0.00019678131502587348\n"
          ]
        }
      ]
    },
    {
      "cell_type": "code",
      "source": [
        "def generate_name(seed_char='a', max_length=10):\n",
        "    model.eval()\n",
        "    input_char = torch.tensor([[char_to_idx[seed_char]]], dtype=torch.long)\n",
        "    hidden = None\n",
        "    result = seed_char\n",
        "\n",
        "    for _ in range(max_length):\n",
        "        output, hidden = model(input_char, hidden)\n",
        "        probabilities = torch.softmax(output.squeeze(0)[-1], dim=0)\n",
        "        next_char_idx = torch.multinomial(probabilities, 1).item()\n",
        "        next_char = idx_to_char[next_char_idx]\n",
        "        result += next_char\n",
        "        input_char = torch.tensor([[next_char_idx]], dtype=torch.long)\n",
        "        if next_char == ' ' or len(result) >= max_length:\n",
        "            break\n",
        "    return result"
      ],
      "metadata": {
        "id": "WxLYVrUIHMSF"
      },
      "execution_count": 24,
      "outputs": []
    },
    {
      "cell_type": "code",
      "source": [
        "print(generate_name(seed_char='a'))"
      ],
      "metadata": {
        "colab": {
          "base_uri": "https://localhost:8080/"
        },
        "id": "ACziXeyyHU5_",
        "outputId": "18dbd446-ff51-4ab9-a739-a8ab9d8f3a06"
      },
      "execution_count": 25,
      "outputs": [
        {
          "output_type": "stream",
          "name": "stdout",
          "text": [
            "aliceeeebb\n"
          ]
        }
      ]
    },
    {
      "cell_type": "code",
      "source": [],
      "metadata": {
        "id": "Q50iy53UHdN2"
      },
      "execution_count": null,
      "outputs": []
    }
  ]
}